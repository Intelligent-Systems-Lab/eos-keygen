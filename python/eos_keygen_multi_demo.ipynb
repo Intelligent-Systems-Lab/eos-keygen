{
  "nbformat": 4,
  "nbformat_minor": 0,
  "metadata": {
    "colab": {
      "name": "eos-keygen-multi-demo.ipynb",
      "provenance": [],
      "collapsed_sections": []
    },
    "kernelspec": {
      "name": "python3",
      "display_name": "Python 3"
    }
  },
  "cells": [
    {
      "cell_type": "code",
      "metadata": {
        "id": "-tUKpyihjFU5",
        "colab_type": "code",
        "colab": {
          "base_uri": "https://localhost:8080/",
          "height": 1000
        },
        "outputId": "2f58edb3-f973-4dd6-90f5-47ba46bcc649"
      },
      "source": [
        "!sudo apt update\n",
        "!sudo apt -y install curl dirmngr apt-transport-https lsb-release ca-certificates\n",
        "!curl -sL https://deb.nodesource.com/setup_10.x | sudo bash\n",
        "!apt-get install -y nodejs\n",
        "\n",
        "!npm install -g npm"
      ],
      "execution_count": 1,
      "outputs": [
        {
          "output_type": "stream",
          "text": [
            "\u001b[33m\r0% [Working]\u001b[0m\r            \rGet:1 http://security.ubuntu.com/ubuntu bionic-security InRelease [88.7 kB]\n",
            "\u001b[33m\r0% [Connecting to archive.ubuntu.com (91.189.88.142)] [1 InRelease 1,138 B/88.7\u001b[0m\u001b[33m\r0% [Waiting for headers] [Connected to cloud.r-project.org (13.32.87.58)] [Wait\u001b[0m\r                                                                               \rIgn:2 https://developer.download.nvidia.com/compute/cuda/repos/ubuntu1804/x86_64  InRelease\n",
            "\u001b[33m\r0% [Waiting for headers] [Connected to cloud.r-project.org (13.32.87.58)] [Wait\u001b[0m\u001b[33m\r0% [1 InRelease gpgv 88.7 kB] [Waiting for headers] [Connected to cloud.r-proje\u001b[0m\r                                                                               \rGet:3 https://cloud.r-project.org/bin/linux/ubuntu bionic-cran35/ InRelease [3,626 B]\n",
            "\u001b[33m\r0% [1 InRelease gpgv 88.7 kB] [Waiting for headers] [3 InRelease 3,626 B/3,626 \u001b[0m\u001b[33m\r0% [1 InRelease gpgv 88.7 kB] [Waiting for headers] [Waiting for headers] [Wait\u001b[0m\r                                                                               \rHit:4 http://ppa.launchpad.net/graphics-drivers/ppa/ubuntu bionic InRelease\n",
            "\u001b[33m\r0% [1 InRelease gpgv 88.7 kB] [Waiting for headers] [Waiting for headers] [Conn\u001b[0m\r                                                                               \rIgn:5 https://developer.download.nvidia.com/compute/machine-learning/repos/ubuntu1804/x86_64  InRelease\n",
            "\u001b[33m\r0% [1 InRelease gpgv 88.7 kB] [Waiting for headers] [Connecting to ppa.launchpa\u001b[0m\r                                                                               \rHit:6 http://archive.ubuntu.com/ubuntu bionic InRelease\n",
            "\u001b[33m\r0% [1 InRelease gpgv 88.7 kB] [Waiting for headers] [Connecting to ppa.launchpa\u001b[0m\r                                                                               \rHit:7 https://developer.download.nvidia.com/compute/cuda/repos/ubuntu1804/x86_64  Release\n",
            "\u001b[33m\r0% [1 InRelease gpgv 88.7 kB] [Waiting for headers] [Connecting to ppa.launchpa\u001b[0m\r                                                                               \rGet:8 https://developer.download.nvidia.com/compute/machine-learning/repos/ubuntu1804/x86_64  Release [564 B]\n",
            "\u001b[33m\r0% [1 InRelease gpgv 88.7 kB] [Waiting for headers] [Connecting to ppa.launchpa\u001b[0m\r                                                                               \rGet:9 https://developer.download.nvidia.com/compute/machine-learning/repos/ubuntu1804/x86_64  Release.gpg [833 B]\n",
            "\u001b[33m\r0% [1 InRelease gpgv 88.7 kB] [Waiting for headers] [9 Release.gpg 833 B/833 B \u001b[0m\u001b[33m\r0% [1 InRelease gpgv 88.7 kB] [Waiting for headers] [Connecting to ppa.launchpa\u001b[0m\r                                                                               \rGet:10 http://archive.ubuntu.com/ubuntu bionic-updates InRelease [88.7 kB]\n",
            "\u001b[33m\r0% [1 InRelease gpgv 88.7 kB] [10 InRelease 14.2 kB/88.7 kB 16%] [Waiting for h\u001b[0m\u001b[33m\r                                                                               \r0% [10 InRelease 15.6 kB/88.7 kB 18%] [Waiting for headers]\u001b[0m\u001b[33m\r0% [3 InRelease gpgv 3,626 B] [10 InRelease 15.6 kB/88.7 kB 18%] [Waiting for h\u001b[0m\r                                                                               \rGet:11 http://security.ubuntu.com/ubuntu bionic-security/restricted amd64 Packages [87.8 kB]\n",
            "\u001b[33m\r0% [3 InRelease gpgv 3,626 B] [10 InRelease 15.6 kB/88.7 kB 18%] [11 Packages 5\u001b[0m\u001b[33m\r0% [3 InRelease gpgv 3,626 B] [10 InRelease 15.6 kB/88.7 kB 18%] [Waiting for h\u001b[0m\r                                                                               \rGet:12 http://ppa.launchpad.net/marutter/c2d4u3.5/ubuntu bionic InRelease [15.4 kB]\n",
            "\u001b[33m\r                                                                               \r0% [3 InRelease gpgv 3,626 B] [10 InRelease 15.6 kB/88.7 kB 18%]\u001b[0m\u001b[33m\r0% [11 Packages store 0 B] [3 InRelease gpgv 3,626 B] [10 InRelease 15.6 kB/88.\u001b[0m\u001b[33m\r0% [3 InRelease gpgv 3,626 B] [10 InRelease 47.5 kB/88.7 kB 54%] [Waiting for h\u001b[0m\r                                                                               \rGet:13 http://security.ubuntu.com/ubuntu bionic-security/universe amd64 Packages [866 kB]\n",
            "\u001b[33m\r0% [3 InRelease gpgv 3,626 B] [10 InRelease 47.5 kB/88.7 kB 54%] [13 Packages 2\u001b[0m\u001b[33m\r                                                                               \r0% [10 InRelease 47.5 kB/88.7 kB 54%] [13 Packages 229 kB/866 kB 26%]\u001b[0m\u001b[33m\r0% [4 InRelease gpgv 21.3 kB] [10 InRelease 47.5 kB/88.7 kB 54%] [13 Packages 2\u001b[0m\r                                                                               \rGet:14 https://cloud.r-project.org/bin/linux/ubuntu bionic-cran35/ Packages [93.7 kB]\n",
            "\u001b[33m\r0% [4 InRelease gpgv 21.3 kB] [10 InRelease 47.5 kB/88.7 kB 54%] [13 Packages 7\u001b[0m\u001b[33m\r0% [4 InRelease gpgv 21.3 kB] [10 InRelease 53.3 kB/88.7 kB 60%] [14 Packages 1\u001b[0m\r                                                                               \rGet:15 http://security.ubuntu.com/ubuntu bionic-security/main amd64 Packages [993 kB]\n",
            "\u001b[33m\r0% [4 InRelease gpgv 21.3 kB] [10 InRelease 53.3 kB/88.7 kB 60%] [15 Packages 0\u001b[0m\u001b[33m\r0% [13 Packages store 0 B] [4 InRelease gpgv 21.3 kB] [10 InRelease 56.2 kB/88.\u001b[0m\u001b[33m\r0% [13 Packages store 0 B] [4 InRelease gpgv 21.3 kB] [Waiting for headers] [15\u001b[0m\u001b[33m\r0% [13 Packages store 0 B] [4 InRelease gpgv 21.3 kB] [Waiting for headers] [14\u001b[0m\r                                                                               \rGet:16 http://security.ubuntu.com/ubuntu bionic-security/multiverse amd64 Packages [9,282 B]\n",
            "Get:17 http://archive.ubuntu.com/ubuntu bionic-backports InRelease [74.6 kB]\n",
            "Get:19 https://developer.download.nvidia.com/compute/machine-learning/repos/ubuntu1804/x86_64  Packages [40.0 kB]\n",
            "Get:20 http://ppa.launchpad.net/marutter/c2d4u3.5/ubuntu bionic/main Sources [1,842 kB]\n",
            "Get:21 http://archive.ubuntu.com/ubuntu bionic-updates/main amd64 Packages [1,292 kB]\n",
            "Get:22 http://archive.ubuntu.com/ubuntu bionic-updates/restricted amd64 Packages [101 kB]\n",
            "Get:23 http://archive.ubuntu.com/ubuntu bionic-updates/universe amd64 Packages [1,404 kB]\n",
            "Get:24 http://archive.ubuntu.com/ubuntu bionic-updates/multiverse amd64 Packages [13.6 kB]\n",
            "Get:25 http://ppa.launchpad.net/marutter/c2d4u3.5/ubuntu bionic/main amd64 Packages [889 kB]\n",
            "Fetched 7,904 kB in 3s (3,015 kB/s)\n",
            "Reading package lists... Done\n",
            "Building dependency tree       \n",
            "Reading state information... Done\n",
            "43 packages can be upgraded. Run 'apt list --upgradable' to see them.\n",
            "Reading package lists... Done\n",
            "Building dependency tree       \n",
            "Reading state information... Done\n",
            "lsb-release is already the newest version (9.20170808ubuntu1).\n",
            "lsb-release set to manually installed.\n",
            "ca-certificates is already the newest version (20190110~18.04.1).\n",
            "curl is already the newest version (7.58.0-2ubuntu3.9).\n",
            "dirmngr is already the newest version (2.2.4-1ubuntu1.2).\n",
            "The following package was automatically installed and is no longer required:\n",
            "  libnvidia-common-440\n",
            "Use 'sudo apt autoremove' to remove it.\n",
            "The following NEW packages will be installed:\n",
            "  apt-transport-https\n",
            "0 upgraded, 1 newly installed, 0 to remove and 43 not upgraded.\n",
            "Need to get 1,692 B of archives.\n",
            "After this operation, 153 kB of additional disk space will be used.\n",
            "Get:1 http://archive.ubuntu.com/ubuntu bionic-updates/universe amd64 apt-transport-https all 1.6.12ubuntu0.1 [1,692 B]\n",
            "Fetched 1,692 B in 0s (9,516 B/s)\n",
            "debconf: unable to initialize frontend: Dialog\n",
            "debconf: (No usable dialog-like program is installed, so the dialog based frontend cannot be used. at /usr/share/perl5/Debconf/FrontEnd/Dialog.pm line 76, <> line 1.)\n",
            "debconf: falling back to frontend: Readline\n",
            "debconf: unable to initialize frontend: Readline\n",
            "debconf: (This frontend requires a controlling tty.)\n",
            "debconf: falling back to frontend: Teletype\n",
            "dpkg-preconfigure: unable to re-open stdin: \n",
            "Selecting previously unselected package apt-transport-https.\n",
            "(Reading database ... 144379 files and directories currently installed.)\n",
            "Preparing to unpack .../apt-transport-https_1.6.12ubuntu0.1_all.deb ...\n",
            "Unpacking apt-transport-https (1.6.12ubuntu0.1) ...\n",
            "Setting up apt-transport-https (1.6.12ubuntu0.1) ...\n",
            "\n",
            "## Installing the NodeSource Node.js 10.x repo...\n",
            "\n",
            "\n",
            "## Populating apt-get cache...\n",
            "\n",
            "+ apt-get update\n",
            "Hit:1 http://security.ubuntu.com/ubuntu bionic-security InRelease\n",
            "Ign:2 https://developer.download.nvidia.com/compute/cuda/repos/ubuntu1804/x86_64  InRelease\n",
            "Hit:3 https://cloud.r-project.org/bin/linux/ubuntu bionic-cran35/ InRelease\n",
            "Hit:4 http://ppa.launchpad.net/graphics-drivers/ppa/ubuntu bionic InRelease\n",
            "Ign:5 https://developer.download.nvidia.com/compute/machine-learning/repos/ubuntu1804/x86_64  InRelease\n",
            "Hit:6 http://archive.ubuntu.com/ubuntu bionic InRelease\n",
            "Hit:7 https://developer.download.nvidia.com/compute/cuda/repos/ubuntu1804/x86_64  Release\n",
            "Hit:8 https://developer.download.nvidia.com/compute/machine-learning/repos/ubuntu1804/x86_64  Release\n",
            "Hit:9 http://archive.ubuntu.com/ubuntu bionic-updates InRelease\n",
            "Hit:10 http://ppa.launchpad.net/marutter/c2d4u3.5/ubuntu bionic InRelease\n",
            "Hit:11 http://archive.ubuntu.com/ubuntu bionic-backports InRelease\n",
            "Reading package lists... Done\n",
            "\n",
            "## Confirming \"bionic\" is supported...\n",
            "\n",
            "+ curl -sLf -o /dev/null 'https://deb.nodesource.com/node_10.x/dists/bionic/Release'\n",
            "\n",
            "## Adding the NodeSource signing key to your keyring...\n",
            "\n",
            "+ curl -s https://deb.nodesource.com/gpgkey/nodesource.gpg.key | apt-key add -\n",
            "OK\n",
            "\n",
            "## Creating apt sources list file for the NodeSource Node.js 10.x repo...\n",
            "\n",
            "+ echo 'deb https://deb.nodesource.com/node_10.x bionic main' > /etc/apt/sources.list.d/nodesource.list\n",
            "+ echo 'deb-src https://deb.nodesource.com/node_10.x bionic main' >> /etc/apt/sources.list.d/nodesource.list\n",
            "\n",
            "## Running `apt-get update` for you...\n",
            "\n",
            "+ apt-get update\n",
            "Hit:1 http://security.ubuntu.com/ubuntu bionic-security InRelease\n",
            "Ign:2 https://developer.download.nvidia.com/compute/cuda/repos/ubuntu1804/x86_64  InRelease\n",
            "Hit:3 https://cloud.r-project.org/bin/linux/ubuntu bionic-cran35/ InRelease\n",
            "Get:4 https://deb.nodesource.com/node_10.x bionic InRelease [4,584 B]\n",
            "Hit:5 http://ppa.launchpad.net/graphics-drivers/ppa/ubuntu bionic InRelease\n",
            "Hit:6 http://archive.ubuntu.com/ubuntu bionic InRelease\n",
            "Ign:7 https://developer.download.nvidia.com/compute/machine-learning/repos/ubuntu1804/x86_64  InRelease\n",
            "Hit:8 https://developer.download.nvidia.com/compute/cuda/repos/ubuntu1804/x86_64  Release\n",
            "Hit:9 https://developer.download.nvidia.com/compute/machine-learning/repos/ubuntu1804/x86_64  Release\n",
            "Hit:10 http://archive.ubuntu.com/ubuntu bionic-updates InRelease\n",
            "Get:11 https://deb.nodesource.com/node_10.x bionic/main amd64 Packages [768 B]\n",
            "Hit:12 http://archive.ubuntu.com/ubuntu bionic-backports InRelease\n",
            "Hit:13 http://ppa.launchpad.net/marutter/c2d4u3.5/ubuntu bionic InRelease\n",
            "Fetched 5,352 B in 1s (5,767 B/s)\n",
            "Reading package lists... Done\n",
            "\n",
            "## Run `\u001b[1msudo apt-get install -y nodejs\u001b[m` to install Node.js 10.x and npm\n",
            "## You may also need development tools to build native addons:\n",
            "     sudo apt-get install gcc g++ make\n",
            "## To install the Yarn package manager, run:\n",
            "     curl -sL https://dl.yarnpkg.com/debian/pubkey.gpg | sudo apt-key add -\n",
            "     echo \"deb https://dl.yarnpkg.com/debian/ stable main\" | sudo tee /etc/apt/sources.list.d/yarn.list\n",
            "     sudo apt-get update && sudo apt-get install yarn\n",
            "\n",
            "\n",
            "Reading package lists... Done\n",
            "Building dependency tree       \n",
            "Reading state information... Done\n",
            "The following package was automatically installed and is no longer required:\n",
            "  libnvidia-common-440\n",
            "Use 'apt autoremove' to remove it.\n",
            "The following NEW packages will be installed:\n",
            "  nodejs\n",
            "0 upgraded, 1 newly installed, 0 to remove and 43 not upgraded.\n",
            "Need to get 16.2 MB of archives.\n",
            "After this operation, 81.7 MB of additional disk space will be used.\n",
            "Get:1 https://deb.nodesource.com/node_10.x bionic/main amd64 nodejs amd64 10.21.0-1nodesource1 [16.2 MB]\n",
            "Fetched 16.2 MB in 0s (41.3 MB/s)\n",
            "Selecting previously unselected package nodejs.\n",
            "(Reading database ... 144383 files and directories currently installed.)\n",
            "Preparing to unpack .../nodejs_10.21.0-1nodesource1_amd64.deb ...\n",
            "Unpacking nodejs (10.21.0-1nodesource1) ...\n",
            "Setting up nodejs (10.21.0-1nodesource1) ...\n",
            "Processing triggers for man-db (2.8.3-2ubuntu0.1) ...\n",
            "\u001b[K\u001b[?25h/usr/bin/npm -> /usr/lib/node_modules/npm/bin/npm-cli.js\n",
            "/usr/bin/npx -> /usr/lib/node_modules/npm/bin/npx-cli.js\n",
            "\u001b[K\u001b[?25h+ npm@6.14.5\n",
            "updated 5 packages in 7.148s\n"
          ],
          "name": "stdout"
        }
      ]
    },
    {
      "cell_type": "code",
      "metadata": {
        "id": "uylhf2RnjGzv",
        "colab_type": "code",
        "colab": {
          "base_uri": "https://localhost:8080/",
          "height": 51
        },
        "outputId": "888e77e9-0a30-41c6-c856-e8adbaab800d"
      },
      "source": [
        "!node -v\n",
        "!npm -v"
      ],
      "execution_count": 2,
      "outputs": [
        {
          "output_type": "stream",
          "text": [
            "v10.21.0\n",
            "6.14.5\n"
          ],
          "name": "stdout"
        }
      ]
    },
    {
      "cell_type": "code",
      "metadata": {
        "id": "Z_NWQuJOjLQV",
        "colab_type": "code",
        "colab": {
          "base_uri": "https://localhost:8080/",
          "height": 408
        },
        "outputId": "809bde0d-e3ae-44c2-b978-b04b36e838fa"
      },
      "source": [
        "!git clone https://github.com/Intelligent-Systems-Lab/eos-keygen.git\n",
        "%cd eos-keygen\n",
        "\n",
        "!npm i eosjs-ecc"
      ],
      "execution_count": 3,
      "outputs": [
        {
          "output_type": "stream",
          "text": [
            "Cloning into 'eos-keygen'...\n",
            "remote: Enumerating objects: 71, done.\u001b[K\n",
            "remote: Counting objects:   1% (1/71)\u001b[K\rremote: Counting objects:   2% (2/71)\u001b[K\rremote: Counting objects:   4% (3/71)\u001b[K\rremote: Counting objects:   5% (4/71)\u001b[K\rremote: Counting objects:   7% (5/71)\u001b[K\rremote: Counting objects:   8% (6/71)\u001b[K\rremote: Counting objects:   9% (7/71)\u001b[K\rremote: Counting objects:  11% (8/71)\u001b[K\rremote: Counting objects:  12% (9/71)\u001b[K\rremote: Counting objects:  14% (10/71)\u001b[K\rremote: Counting objects:  15% (11/71)\u001b[K\rremote: Counting objects:  16% (12/71)\u001b[K\rremote: Counting objects:  18% (13/71)\u001b[K\rremote: Counting objects:  19% (14/71)\u001b[K\rremote: Counting objects:  21% (15/71)\u001b[K\rremote: Counting objects:  22% (16/71)\u001b[K\rremote: Counting objects:  23% (17/71)\u001b[K\rremote: Counting objects:  25% (18/71)\u001b[K\rremote: Counting objects:  26% (19/71)\u001b[K\rremote: Counting objects:  28% (20/71)\u001b[K\rremote: Counting objects:  29% (21/71)\u001b[K\rremote: Counting objects:  30% (22/71)\u001b[K\rremote: Counting objects:  32% (23/71)\u001b[K\rremote: Counting objects:  33% (24/71)\u001b[K\rremote: Counting objects:  35% (25/71)\u001b[K\rremote: Counting objects:  36% (26/71)\u001b[K\rremote: Counting objects:  38% (27/71)\u001b[K\rremote: Counting objects:  39% (28/71)\u001b[K\rremote: Counting objects:  40% (29/71)\u001b[K\rremote: Counting objects:  42% (30/71)\u001b[K\rremote: Counting objects:  43% (31/71)\u001b[K\rremote: Counting objects:  45% (32/71)\u001b[K\rremote: Counting objects:  46% (33/71)\u001b[K\rremote: Counting objects:  47% (34/71)\u001b[K\rremote: Counting objects:  49% (35/71)\u001b[K\rremote: Counting objects:  50% (36/71)\u001b[K\rremote: Counting objects:  52% (37/71)\u001b[K\rremote: Counting objects:  53% (38/71)\u001b[K\rremote: Counting objects:  54% (39/71)\u001b[K\rremote: Counting objects:  56% (40/71)\u001b[K\rremote: Counting objects:  57% (41/71)\u001b[K\rremote: Counting objects:  59% (42/71)\u001b[K\rremote: Counting objects:  60% (43/71)\u001b[K\rremote: Counting objects:  61% (44/71)\u001b[K\rremote: Counting objects:  63% (45/71)\u001b[K\rremote: Counting objects:  64% (46/71)\u001b[K\rremote: Counting objects:  66% (47/71)\u001b[K\rremote: Counting objects:  67% (48/71)\u001b[K\rremote: Counting objects:  69% (49/71)\u001b[K\rremote: Counting objects:  70% (50/71)\u001b[K\rremote: Counting objects:  71% (51/71)\u001b[K\rremote: Counting objects:  73% (52/71)\u001b[K\rremote: Counting objects:  74% (53/71)\u001b[K\rremote: Counting objects:  76% (54/71)\u001b[K\rremote: Counting objects:  77% (55/71)\u001b[K\rremote: Counting objects:  78% (56/71)\u001b[K\rremote: Counting objects:  80% (57/71)\u001b[K\rremote: Counting objects:  81% (58/71)\u001b[K\rremote: Counting objects:  83% (59/71)\u001b[K\rremote: Counting objects:  84% (60/71)\u001b[K\rremote: Counting objects:  85% (61/71)\u001b[K\rremote: Counting objects:  87% (62/71)\u001b[K\rremote: Counting objects:  88% (63/71)\u001b[K\rremote: Counting objects:  90% (64/71)\u001b[K\rremote: Counting objects:  91% (65/71)\u001b[K\rremote: Counting objects:  92% (66/71)\u001b[K\rremote: Counting objects:  94% (67/71)\u001b[K\rremote: Counting objects:  95% (68/71)\u001b[K\rremote: Counting objects:  97% (69/71)\u001b[K\rremote: Counting objects:  98% (70/71)\u001b[K\rremote: Counting objects: 100% (71/71)\u001b[K\rremote: Counting objects: 100% (71/71), done.\u001b[K\n",
            "remote: Compressing objects:   1% (1/53)\u001b[K\rremote: Compressing objects:   3% (2/53)\u001b[K\rremote: Compressing objects:   5% (3/53)\u001b[K\rremote: Compressing objects:   7% (4/53)\u001b[K\rremote: Compressing objects:   9% (5/53)\u001b[K\rremote: Compressing objects:  11% (6/53)\u001b[K\rremote: Compressing objects:  13% (7/53)\u001b[K\rremote: Compressing objects:  15% (8/53)\u001b[K\rremote: Compressing objects:  16% (9/53)\u001b[K\rremote: Compressing objects:  18% (10/53)\u001b[K\rremote: Compressing objects:  20% (11/53)\u001b[K\rremote: Compressing objects:  22% (12/53)\u001b[K\rremote: Compressing objects:  24% (13/53)\u001b[K\rremote: Compressing objects:  26% (14/53)\u001b[K\rremote: Compressing objects:  28% (15/53)\u001b[K\rremote: Compressing objects:  30% (16/53)\u001b[K\rremote: Compressing objects:  32% (17/53)\u001b[K\rremote: Compressing objects:  33% (18/53)\u001b[K\rremote: Compressing objects:  35% (19/53)\u001b[K\rremote: Compressing objects:  37% (20/53)\u001b[K\rremote: Compressing objects:  39% (21/53)\u001b[K\rremote: Compressing objects:  41% (22/53)\u001b[K\rremote: Compressing objects:  43% (23/53)\u001b[K\rremote: Compressing objects:  45% (24/53)\u001b[K\rremote: Compressing objects:  47% (25/53)\u001b[K\rremote: Compressing objects:  49% (26/53)\u001b[K\rremote: Compressing objects:  50% (27/53)\u001b[K\rremote: Compressing objects:  52% (28/53)\u001b[K\rremote: Compressing objects:  54% (29/53)\u001b[K\rremote: Compressing objects:  56% (30/53)\u001b[K\rremote: Compressing objects:  58% (31/53)\u001b[K\rremote: Compressing objects:  60% (32/53)\u001b[K\rremote: Compressing objects:  62% (33/53)\u001b[K\rremote: Compressing objects:  64% (34/53)\u001b[K\rremote: Compressing objects:  66% (35/53)\u001b[K\rremote: Compressing objects:  67% (36/53)\u001b[K\rremote: Compressing objects:  69% (37/53)\u001b[K\rremote: Compressing objects:  71% (38/53)\u001b[K\rremote: Compressing objects:  73% (39/53)\u001b[K\rremote: Compressing objects:  75% (40/53)\u001b[K\rremote: Compressing objects:  77% (41/53)\u001b[K\rremote: Compressing objects:  79% (42/53)\u001b[K\rremote: Compressing objects:  81% (43/53)\u001b[K\rremote: Compressing objects:  83% (44/53)\u001b[K\rremote: Compressing objects:  84% (45/53)\u001b[K\rremote: Compressing objects:  86% (46/53)\u001b[K\rremote: Compressing objects:  88% (47/53)\u001b[K\rremote: Compressing objects:  90% (48/53)\u001b[K\rremote: Compressing objects:  92% (49/53)\u001b[K\rremote: Compressing objects:  94% (50/53)\u001b[K\rremote: Compressing objects:  96% (51/53)\u001b[K\rremote: Compressing objects:  98% (52/53)\u001b[K\rremote: Compressing objects: 100% (53/53)\u001b[K\rremote: Compressing objects: 100% (53/53), done.\u001b[K\n",
            "Unpacking objects:   1% (1/71)   \rUnpacking objects:   2% (2/71)   \rUnpacking objects:   4% (3/71)   \rUnpacking objects:   5% (4/71)   \rUnpacking objects:   7% (5/71)   \rUnpacking objects:   8% (6/71)   \rUnpacking objects:   9% (7/71)   \rUnpacking objects:  11% (8/71)   \rUnpacking objects:  12% (9/71)   \rUnpacking objects:  14% (10/71)   \rUnpacking objects:  15% (11/71)   \rUnpacking objects:  16% (12/71)   \rUnpacking objects:  18% (13/71)   \rUnpacking objects:  19% (14/71)   \rUnpacking objects:  21% (15/71)   \rUnpacking objects:  22% (16/71)   \rUnpacking objects:  23% (17/71)   \rUnpacking objects:  25% (18/71)   \rUnpacking objects:  26% (19/71)   \rUnpacking objects:  28% (20/71)   \rUnpacking objects:  29% (21/71)   \rUnpacking objects:  30% (22/71)   \rUnpacking objects:  32% (23/71)   \rUnpacking objects:  33% (24/71)   \rUnpacking objects:  35% (25/71)   \rUnpacking objects:  36% (26/71)   \rUnpacking objects:  38% (27/71)   \rUnpacking objects:  39% (28/71)   \rUnpacking objects:  40% (29/71)   \rUnpacking objects:  42% (30/71)   \rUnpacking objects:  43% (31/71)   \rUnpacking objects:  45% (32/71)   \rUnpacking objects:  46% (33/71)   \rUnpacking objects:  47% (34/71)   \rUnpacking objects:  49% (35/71)   \rUnpacking objects:  50% (36/71)   \rUnpacking objects:  52% (37/71)   \rUnpacking objects:  53% (38/71)   \rUnpacking objects:  54% (39/71)   \rUnpacking objects:  56% (40/71)   \rUnpacking objects:  57% (41/71)   \rUnpacking objects:  59% (42/71)   \rUnpacking objects:  60% (43/71)   \rUnpacking objects:  61% (44/71)   \rUnpacking objects:  63% (45/71)   \rUnpacking objects:  64% (46/71)   \rUnpacking objects:  66% (47/71)   \rUnpacking objects:  67% (48/71)   \rUnpacking objects:  69% (49/71)   \rUnpacking objects:  70% (50/71)   \rUnpacking objects:  71% (51/71)   \rUnpacking objects:  73% (52/71)   \rUnpacking objects:  74% (53/71)   \rUnpacking objects:  76% (54/71)   \rUnpacking objects:  77% (55/71)   \rUnpacking objects:  78% (56/71)   \rUnpacking objects:  80% (57/71)   \rUnpacking objects:  81% (58/71)   \rremote: Total 71 (delta 29), reused 53 (delta 15), pack-reused 0\u001b[K\n",
            "Unpacking objects:  83% (59/71)   \rUnpacking objects:  84% (60/71)   \rUnpacking objects:  85% (61/71)   \rUnpacking objects:  87% (62/71)   \rUnpacking objects:  88% (63/71)   \rUnpacking objects:  90% (64/71)   \rUnpacking objects:  91% (65/71)   \rUnpacking objects:  92% (66/71)   \rUnpacking objects:  94% (67/71)   \rUnpacking objects:  95% (68/71)   \rUnpacking objects:  97% (69/71)   \rUnpacking objects:  98% (70/71)   \rUnpacking objects: 100% (71/71)   \rUnpacking objects: 100% (71/71), done.\n",
            "/content/eos-keygen\n",
            "\u001b[K\u001b[?25h\u001b[37;40mnpm\u001b[0m \u001b[0m\u001b[30;43mWARN\u001b[0m \u001b[0m\u001b[35msaveError\u001b[0m ENOENT: no such file or directory, open '/content/eos-keygen/package.json'\n",
            "\u001b[0m\u001b[37;40mnpm\u001b[0m \u001b[0m\u001b[34;40mnotice\u001b[0m\u001b[35m\u001b[0m created a lockfile as package-lock.json. You should commit this file.\n",
            "\u001b[0m\u001b[37;40mnpm\u001b[0m \u001b[0m\u001b[30;43mWARN\u001b[0m \u001b[0m\u001b[35menoent\u001b[0m ENOENT: no such file or directory, open '/content/eos-keygen/package.json'\n",
            "\u001b[0m\u001b[37;40mnpm\u001b[0m \u001b[0m\u001b[30;43mWARN\u001b[0m\u001b[35m\u001b[0m eos-keygen No description\n",
            "\u001b[0m\u001b[37;40mnpm\u001b[0m \u001b[0m\u001b[30;43mWARN\u001b[0m\u001b[35m\u001b[0m eos-keygen No repository field.\n",
            "\u001b[0m\u001b[37;40mnpm\u001b[0m \u001b[0m\u001b[30;43mWARN\u001b[0m\u001b[35m\u001b[0m eos-keygen No README data\n",
            "\u001b[0m\u001b[37;40mnpm\u001b[0m \u001b[0m\u001b[30;43mWARN\u001b[0m\u001b[35m\u001b[0m eos-keygen No license field.\n",
            "\u001b[0m\n",
            "+ eosjs-ecc@4.0.7\n",
            "added 25 packages from 10 contributors and audited 25 packages in 2.326s\n",
            "\n",
            "1 package is looking for funding\n",
            "  run `npm fund` for details\n",
            "\n",
            "found \u001b[92m0\u001b[0m vulnerabilities\n",
            "\n",
            "\u001b[K\u001b[?25h"
          ],
          "name": "stdout"
        }
      ]
    },
    {
      "cell_type": "code",
      "metadata": {
        "id": "vFoyUR0jjql7",
        "colab_type": "code",
        "colab": {
          "base_uri": "https://localhost:8080/",
          "height": 51
        },
        "outputId": "3c8d0d13-b35d-485a-9e1f-0647ff0ac934"
      },
      "source": [
        "!node main.js"
      ],
      "execution_count": 4,
      "outputs": [
        {
          "output_type": "stream",
          "text": [
            "5KjFCJFpGPJREYJQB12T1AmuxrCcxFVk2dR46goQrzLHvuZPVyc\n",
            "EOS5Mke8bCD6oRRoTd4eoSwX1raqhckoPQY8GnVqQrQwRYQ5P78JH\n"
          ],
          "name": "stdout"
        }
      ]
    },
    {
      "cell_type": "code",
      "metadata": {
        "id": "4Vx6qz68naWN",
        "colab_type": "code",
        "colab": {
          "base_uri": "https://localhost:8080/",
          "height": 102
        },
        "outputId": "91e58313-fcdc-4ca2-bcb5-4771e9d2f0a8"
      },
      "source": [
        "%cd python\n",
        "!ls"
      ],
      "execution_count": 5,
      "outputs": [
        {
          "output_type": "stream",
          "text": [
            "/content/eos-keygen/python\n",
            "account_1000.json  account_300.json\t  account_generator_multi.py\n",
            "account_1000.txt   account_50.json\t  account_generator.py\n",
            "account_200.json   account_50.txt\t  eos_keygen_demo.ipynb\n",
            "account_200.txt    account_generator2.py\n"
          ],
          "name": "stdout"
        }
      ]
    },
    {
      "cell_type": "code",
      "metadata": {
        "id": "OUGqGFjpkARU",
        "colab_type": "code",
        "colab": {
          "base_uri": "https://localhost:8080/",
          "height": 68
        },
        "outputId": "a8ad2bf3-e1ca-4fd5-de62-602910a781ba"
      },
      "source": [
        "!python3 account_generator_multi.py --user-limit 50 --save-path /content/account_50.json --numproc 4"
      ],
      "execution_count": 9,
      "outputs": [
        {
          "output_type": "stream",
          "text": [
            " 96% 48/50 [00:30<00:01,  1.60it/s]\n",
            "Generate task done.\n",
            "Save done.\n"
          ],
          "name": "stdout"
        }
      ]
    },
    {
      "cell_type": "code",
      "metadata": {
        "id": "Pm9T-feokby8",
        "colab_type": "code",
        "colab": {
          "base_uri": "https://localhost:8080/",
          "height": 51
        },
        "outputId": "c8352a89-2377-4293-91ce-88e0558d60b6"
      },
      "source": [
        "%cd /content\n",
        "!pwd"
      ],
      "execution_count": 10,
      "outputs": [
        {
          "output_type": "stream",
          "text": [
            "/content\n",
            "/content\n"
          ],
          "name": "stdout"
        }
      ]
    },
    {
      "cell_type": "code",
      "metadata": {
        "id": "ytbWS9o5mDmY",
        "colab_type": "code",
        "colab": {
          "base_uri": "https://localhost:8080/",
          "height": 34
        },
        "outputId": "0a3804da-958d-4e32-e17a-3f47bcbf77f4"
      },
      "source": [
        "!ls"
      ],
      "execution_count": 11,
      "outputs": [
        {
          "output_type": "stream",
          "text": [
            "account_50.json  account_50.txt  eos-keygen  sample_data\n"
          ],
          "name": "stdout"
        }
      ]
    },
    {
      "cell_type": "code",
      "metadata": {
        "id": "EjvK0OpgmnuO",
        "colab_type": "code",
        "colab": {
          "base_uri": "https://localhost:8080/",
          "height": 34
        },
        "outputId": "59594add-7fed-464c-dbe1-e7dc5d2be17e"
      },
      "source": [
        "print(\"enjoy!\")"
      ],
      "execution_count": 12,
      "outputs": [
        {
          "output_type": "stream",
          "text": [
            "enjoy!\n"
          ],
          "name": "stdout"
        }
      ]
    }
  ]
}